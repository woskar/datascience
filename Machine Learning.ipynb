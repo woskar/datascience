{
 "cells": [
  {
   "cell_type": "markdown",
   "metadata": {
    "deletable": true,
    "editable": true
   },
   "source": [
    "# Machine Learning"
   ]
  },
  {
   "cell_type": "markdown",
   "metadata": {
    "deletable": true,
    "editable": true
   },
   "source": [
    "Working with scikit-learn: \n",
    "\n",
    "Every algorithm is an Estimator-object\n",
    "\n",
    "Importing: from sklear.family import Model\n",
    "\n",
    "Estimator parameters can be set, check out with shift+tab"
   ]
  },
  {
   "cell_type": "markdown",
   "metadata": {
    "collapsed": true,
    "deletable": true,
    "editable": true
   },
   "source": [
    "Update in Scikit Learn:\n",
    "\n",
    "from sklearn.cross_validation import train_test_split\n",
    "\n",
    "has been changed to :\n",
    "\n",
    "from sklearn.model_selection import train_test_split\n",
    "\n",
    "The same has also happened for GridSearchCV (we'll talk about this much later)."
   ]
  },
  {
   "cell_type": "code",
   "execution_count": null,
   "metadata": {
    "collapsed": true
   },
   "outputs": [],
   "source": []
  }
 ],
 "metadata": {
  "kernelspec": {
   "display_name": "Python 3",
   "language": "python",
   "name": "python3"
  },
  "language_info": {
   "codemirror_mode": {
    "name": "ipython",
    "version": 3
   },
   "file_extension": ".py",
   "mimetype": "text/x-python",
   "name": "python",
   "nbconvert_exporter": "python",
   "pygments_lexer": "ipython3",
   "version": "3.6.0"
  }
 },
 "nbformat": 4,
 "nbformat_minor": 2
}
