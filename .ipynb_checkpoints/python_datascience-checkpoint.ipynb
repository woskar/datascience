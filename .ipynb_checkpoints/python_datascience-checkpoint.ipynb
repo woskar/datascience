{
 "cells": [
  {
   "cell_type": "markdown",
   "metadata": {},
   "source": [
    "# Python Datascience\n",
    "\n",
    "In this jupyter notebook, I collect cool stuff about datascience, following a course on udemy."
   ]
  },
  {
   "cell_type": "markdown",
   "metadata": {},
   "source": [
    "Remember to operate the Notebook: \n",
    "- esc and H brings up shortcuts\n",
    "- shift enter: execute a cell\n",
    "- alt enter: execute a cell and insert a new one below\n",
    "- object.tab: shows applicable methods (e.g. on a string)"
   ]
  },
  {
   "cell_type": "code",
   "execution_count": 3,
   "metadata": {
    "collapsed": false
   },
   "outputs": [
    {
     "name": "stdout",
     "output_type": "stream",
     "text": [
      "My age is 21 and my name is Oskar.\n",
      "My age is 21 and my name is Oskar.\n"
     ]
    }
   ],
   "source": [
    "#nice Formatting: \n",
    "age = 21\n",
    "name = 'Oskar'\n",
    "print('My age is {} and my name is {}.'.format(age, name))\n",
    "print('My age is {a} and my name is {b}.'.format(a=age, b=name))"
   ]
  },
  {
   "cell_type": "code",
   "execution_count": 4,
   "metadata": {
    "collapsed": false
   },
   "outputs": [
    {
     "data": {
      "text/plain": [
       "{1, 2, 3}"
      ]
     },
     "execution_count": 4,
     "metadata": {},
     "output_type": "execute_result"
    }
   ],
   "source": [
    "#Set only accounts for different objects\n",
    "set([1,1,1,2,2,2,3,3,2,2,1,3,2])"
   ]
  },
  {
   "cell_type": "code",
   "execution_count": 5,
   "metadata": {
    "collapsed": false
   },
   "outputs": [
    {
     "name": "stdout",
     "output_type": "stream",
     "text": [
      "[1, 4, 9, 16]\n"
     ]
    }
   ],
   "source": [
    "#list comprehension: \n",
    "\n",
    "#long version:\n",
    "x = [1,2,3,4]\n",
    "out=[]\n",
    "for item in x:\n",
    "    out.append(item**2)\n",
    "print(out)"
   ]
  },
  {
   "cell_type": "code",
   "execution_count": 8,
   "metadata": {
    "collapsed": false
   },
   "outputs": [
    {
     "name": "stdout",
     "output_type": "stream",
     "text": [
      "[1, 4, 9, 16]\n"
     ]
    }
   ],
   "source": [
    "#short version: \n",
    "out = [item**2 for item in x]\n",
    "print(out)"
   ]
  },
  {
   "cell_type": "code",
   "execution_count": 11,
   "metadata": {
    "collapsed": true
   },
   "outputs": [],
   "source": [
    "#Set documentation string for functions:\n",
    "def function_name(param='Default_parameter'):\n",
    "    \"\"\"\n",
    "    the documtation string goes here\n",
    "    \"\"\"\n",
    "    return param"
   ]
  },
  {
   "cell_type": "code",
   "execution_count": 12,
   "metadata": {
    "collapsed": false
   },
   "outputs": [
    {
     "data": {
      "text/plain": [
       "'Default_parameter'"
      ]
     },
     "execution_count": 12,
     "metadata": {},
     "output_type": "execute_result"
    }
   ],
   "source": [
    "#after function, pree shift-tab and you get the signature call of the function :D\n",
    "function_name()"
   ]
  },
  {
   "cell_type": "code",
   "execution_count": 15,
   "metadata": {
    "collapsed": true
   },
   "outputs": [],
   "source": [
    "#lambda expressions: \n",
    "#long version:\n",
    "def times2(var):\n",
    "    return var*2\n",
    "\n",
    "#short version:\n",
    "t = lambda var: var*2"
   ]
  },
  {
   "cell_type": "code",
   "execution_count": 18,
   "metadata": {
    "collapsed": false
   },
   "outputs": [
    {
     "name": "stdout",
     "output_type": "stream",
     "text": [
      "[1, 4, 9, 16, 25]\n",
      "[2, 4]\n"
     ]
    }
   ],
   "source": [
    "#map and filter act on a list: \n",
    "items = [1, 2, 3, 4, 5]\n",
    "print(list(map(lambda x: x**2, items)))\n",
    "print(list(filter(lambda x: x%2==0, items)))"
   ]
  },
  {
   "cell_type": "code",
   "execution_count": null,
   "metadata": {
    "collapsed": true
   },
   "outputs": [],
   "source": []
  }
 ],
 "metadata": {
  "kernelspec": {
   "display_name": "Python 3",
   "language": "python",
   "name": "python3"
  },
  "language_info": {
   "codemirror_mode": {
    "name": "ipython",
    "version": 3
   },
   "file_extension": ".py",
   "mimetype": "text/x-python",
   "name": "python",
   "nbconvert_exporter": "python",
   "pygments_lexer": "ipython3",
   "version": "3.6.0"
  }
 },
 "nbformat": 4,
 "nbformat_minor": 1
}
